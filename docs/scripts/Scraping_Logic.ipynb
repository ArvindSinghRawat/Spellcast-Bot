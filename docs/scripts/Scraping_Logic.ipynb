{
  "nbformat": 4,
  "nbformat_minor": 0,
  "metadata": {
    "colab": {
      "provenance": [],
      "authorship_tag": "ABX9TyNZBp2Pwe4vQNf1yHNgBUru",
      "include_colab_link": true
    },
    "kernelspec": {
      "name": "python3",
      "display_name": "Python 3"
    },
    "language_info": {
      "name": "python"
    }
  },
  "cells": [
    {
      "cell_type": "markdown",
      "metadata": {
        "id": "view-in-github",
        "colab_type": "text"
      },
      "source": [
        "<a href=\"https://colab.research.google.com/github/ArvindSinghRawat/Spellcast-Bot/blob/feature%2Fv1%2Farvind%2Fscraping-logic/docs/scripts/Scraping_Logic.ipynb\" target=\"_parent\"><img src=\"https://colab.research.google.com/assets/colab-badge.svg\" alt=\"Open In Colab\"/></a>"
      ]
    },
    {
      "cell_type": "markdown",
      "source": [
        "# Logic to Scrape dicitonary words\n",
        "> Scrapes words from the Flat file like pdf to a standard json which will be understood by our App. "
      ],
      "metadata": {
        "id": "qLOO_kEhXWOE"
      }
    },
    {
      "cell_type": "markdown",
      "source": [
        "## Setting dependencies"
      ],
      "metadata": {
        "id": "GRkLlAn4XuV4"
      }
    },
    {
      "cell_type": "code",
      "source": [
        "!pip3 install textract"
      ],
      "metadata": {
        "colab": {
          "base_uri": "https://localhost:8080/"
        },
        "collapsed": true,
        "id": "2AWuDl4lX0OQ",
        "outputId": "400ae75a-05b9-414b-d884-da0488d50792"
      },
      "execution_count": 1,
      "outputs": [
        {
          "output_type": "stream",
          "name": "stdout",
          "text": [
            "Looking in indexes: https://pypi.org/simple, https://us-python.pkg.dev/colab-wheels/public/simple/\n",
            "Requirement already satisfied: textract in /usr/local/lib/python3.8/dist-packages (1.6.5)\n",
            "Requirement already satisfied: six~=1.12.0 in /usr/local/lib/python3.8/dist-packages (from textract) (1.12.0)\n",
            "Requirement already satisfied: beautifulsoup4~=4.8.0 in /usr/local/lib/python3.8/dist-packages (from textract) (4.8.2)\n",
            "Requirement already satisfied: extract-msg<=0.29.* in /usr/local/lib/python3.8/dist-packages (from textract) (0.28.7)\n",
            "Requirement already satisfied: SpeechRecognition~=3.8.1 in /usr/local/lib/python3.8/dist-packages (from textract) (3.8.1)\n",
            "Requirement already satisfied: xlrd~=1.2.0 in /usr/local/lib/python3.8/dist-packages (from textract) (1.2.0)\n",
            "Requirement already satisfied: chardet==3.* in /usr/local/lib/python3.8/dist-packages (from textract) (3.0.4)\n",
            "Requirement already satisfied: python-pptx~=0.6.18 in /usr/local/lib/python3.8/dist-packages (from textract) (0.6.21)\n",
            "Requirement already satisfied: argcomplete~=1.10.0 in /usr/local/lib/python3.8/dist-packages (from textract) (1.10.3)\n",
            "Requirement already satisfied: docx2txt~=0.8 in /usr/local/lib/python3.8/dist-packages (from textract) (0.8)\n",
            "Requirement already satisfied: pdfminer.six==20191110 in /usr/local/lib/python3.8/dist-packages (from textract) (20191110)\n",
            "Requirement already satisfied: pycryptodome in /usr/local/lib/python3.8/dist-packages (from pdfminer.six==20191110->textract) (3.17)\n",
            "Requirement already satisfied: sortedcontainers in /usr/local/lib/python3.8/dist-packages (from pdfminer.six==20191110->textract) (2.4.0)\n",
            "Requirement already satisfied: soupsieve>=1.2 in /usr/local/lib/python3.8/dist-packages (from beautifulsoup4~=4.8.0->textract) (2.3.2.post1)\n",
            "Requirement already satisfied: olefile>=0.46 in /usr/local/lib/python3.8/dist-packages (from extract-msg<=0.29.*->textract) (0.46)\n",
            "Requirement already satisfied: compressed-rtf>=1.0.6 in /usr/local/lib/python3.8/dist-packages (from extract-msg<=0.29.*->textract) (1.0.6)\n",
            "Requirement already satisfied: tzlocal>=2.1 in /usr/local/lib/python3.8/dist-packages (from extract-msg<=0.29.*->textract) (4.2)\n",
            "Requirement already satisfied: imapclient==2.1.0 in /usr/local/lib/python3.8/dist-packages (from extract-msg<=0.29.*->textract) (2.1.0)\n",
            "Requirement already satisfied: ebcdic>=1.1.1 in /usr/local/lib/python3.8/dist-packages (from extract-msg<=0.29.*->textract) (1.1.1)\n",
            "Requirement already satisfied: lxml>=3.1.0 in /usr/local/lib/python3.8/dist-packages (from python-pptx~=0.6.18->textract) (4.9.2)\n",
            "Requirement already satisfied: Pillow>=3.3.2 in /usr/local/lib/python3.8/dist-packages (from python-pptx~=0.6.18->textract) (7.1.2)\n",
            "Requirement already satisfied: XlsxWriter>=0.5.7 in /usr/local/lib/python3.8/dist-packages (from python-pptx~=0.6.18->textract) (3.0.8)\n",
            "Requirement already satisfied: pytz-deprecation-shim in /usr/local/lib/python3.8/dist-packages (from tzlocal>=2.1->extract-msg<=0.29.*->textract) (0.1.0.post0)\n",
            "Requirement already satisfied: backports.zoneinfo in /usr/local/lib/python3.8/dist-packages (from tzlocal>=2.1->extract-msg<=0.29.*->textract) (0.2.1)\n",
            "Requirement already satisfied: tzdata in /usr/local/lib/python3.8/dist-packages (from pytz-deprecation-shim->tzlocal>=2.1->extract-msg<=0.29.*->textract) (2022.7)\n"
          ]
        }
      ]
    },
    {
      "cell_type": "code",
      "source": [
        "# General imports\n",
        "\n",
        "from typing import List, Dict, Any\n",
        "from enum import Enum"
      ],
      "metadata": {
        "id": "5NMpyrfUrn0e"
      },
      "execution_count": 2,
      "outputs": []
    },
    {
      "cell_type": "markdown",
      "source": [
        "## Downloading static files"
      ],
      "metadata": {
        "id": "XzPfBwwoYZ9k"
      }
    },
    {
      "cell_type": "code",
      "source": [
        "!mkdir -p static\n",
        "!mkdir -p output\n",
        "!curl https://www.hzu.edu.in/uploads/2020/10/Law-dictionary.pdf -o static/dictionary.pdf"
      ],
      "metadata": {
        "colab": {
          "base_uri": "https://localhost:8080/"
        },
        "id": "WqYuDgcpYcwY",
        "outputId": "f260de4c-f852-402b-e8aa-9a0d03e54c5c"
      },
      "execution_count": 3,
      "outputs": [
        {
          "output_type": "stream",
          "name": "stdout",
          "text": [
            "mkdir: cannot create directory ‘static’: File exists\n",
            "  % Total    % Received % Xferd  Average Speed   Time    Time     Time  Current\n",
            "                                 Dload  Upload   Total   Spent    Left  Speed\n",
            "100 1469k  100 1469k    0     0   363k      0  0:00:04  0:00:04 --:--:--  364k\n"
          ]
        }
      ]
    },
    {
      "cell_type": "markdown",
      "source": [
        "## Reading file in python"
      ],
      "metadata": {
        "id": "C1fLAHVAajJo"
      }
    },
    {
      "cell_type": "code",
      "source": [
        "import textract\n",
        "import re\n",
        "\n",
        "# creating a pdf file object\n",
        "inputFile = textract.process('./static/dictionary.pdf', method='pdfminer')"
      ],
      "metadata": {
        "id": "HbOJM4Kfam5X"
      },
      "execution_count": 4,
      "outputs": []
    },
    {
      "cell_type": "markdown",
      "source": [
        "## Preprocessing"
      ],
      "metadata": {
        "id": "KQ-UkBtwqpin"
      }
    },
    {
      "cell_type": "markdown",
      "source": [
        "1. Divide the file's content into lines or paragraphs\n",
        "2. Remove all special characters from it"
      ],
      "metadata": {
        "id": "DdgVjboGqs22"
      }
    },
    {
      "cell_type": "code",
      "source": [
        "# Getting paragraphs from the PDF\n",
        "paragraphs = re.split('\\n\\s*\\n+\\s*', inputFile.decode())\n",
        "\n",
        "# Removing special characters from the string and replacing multiple whitespaces into one\n",
        "paragraphs = list(map(lambda line: re.sub(r'(\\\\+\\S)|(\\s+)', ' ', line), paragraphs))\n"
      ],
      "metadata": {
        "id": "JRuEnnc0pg3z"
      },
      "execution_count": 5,
      "outputs": []
    },
    {
      "cell_type": "markdown",
      "source": [
        "### Methods to process different versions of processed text"
      ],
      "metadata": {
        "id": "klhuPKolrBL3"
      }
    },
    {
      "cell_type": "code",
      "source": [
        "# Defining constants\n",
        "class WordType(Enum):\n",
        "  VERB = 'v.'\n",
        "  NOUN = 'n.'\n",
        "  ABBREVIATION = 'abbr.'\n",
        "  ADJECTIVE = 'adj.'\n",
        "result = dict()"
      ],
      "metadata": {
        "id": "8kn99072t1il"
      },
      "execution_count": 27,
      "outputs": []
    },
    {
      "cell_type": "code",
      "source": [
        "def preprocess_word(input: str) -> str:\n",
        "  \"\"\" Removing trailing digits and special characters\n",
        "  \"\"\"\n",
        "  return input.strip().strip('1234567890)(!@#$%^&*()_+{}|\\\\:\"\\'<>?,./').strip()"
      ],
      "metadata": {
        "id": "Mwy29r44HfNU"
      },
      "execution_count": 28,
      "outputs": []
    },
    {
      "cell_type": "code",
      "source": [
        "def process_raw_text(line: str) -> List[str]:\n",
        "  \"\"\"Reads the raw text and filters unwanted data out of it. Returns List with single word in each element\n",
        "  \"\"\"\n",
        "  # TODO: substitute `- ` with empty word\n",
        "  # TODO: Split words, add words greater than 1 char in list\n",
        "  # TODO: convert words to small caps\n",
        "  result = list()\n",
        "  line = re.sub(\"-\\s+\", \"\", line)\n",
        "  split = line.split()\n",
        "  for word in split:\n",
        "    word = word.strip()\n",
        "    all_same = all(ch == word[0] for ch in word)\n",
        "    if len(word) > 1 and word.isalpha() and not word.isupper() and not all_same:\n",
        "      result.append(word.lower())\n",
        "\n",
        "  return result"
      ],
      "metadata": {
        "id": "QFNJTyzyqGCU"
      },
      "execution_count": 29,
      "outputs": []
    },
    {
      "cell_type": "code",
      "source": [
        "def map_type(input: str) -> WordType: \n",
        "  if input is None:\n",
        "    return None\n",
        "  input = input.strip()\n",
        "  if len(input) < 1:\n",
        "    return None\n",
        "  word_type = None\n",
        "  if input == 'v':\n",
        "    return WordType.VERB\n",
        "  elif input == 'adj':\n",
        "    return WordType.ADJECTIVE\n",
        "  elif input == 'n':\n",
        "    return WordType.NOUN\n",
        "  elif input == 'abbr':\n",
        "    return WordType.ABBREVIATION\n",
        "  else:\n",
        "    return None"
      ],
      "metadata": {
        "id": "n81RVuRp1Q_f"
      },
      "execution_count": 30,
      "outputs": []
    },
    {
      "cell_type": "code",
      "source": [
        "def process_words_with_meaning(line: str)  -> Dict[str, Any]:\n",
        "  if len(line) < 1:\n",
        "    return None\n",
        "  split = re.split(r'\\s+(v|abbr|n|adj)\\.\\s+', line)\n",
        "  if len(split) > 2:\n",
        "    response = {\n",
        "        'word': preprocess_word(split[0]),\n",
        "        'meaning': list()\n",
        "    }\n",
        "    index=1\n",
        "    for i in range(1, len(split) - 1):\n",
        "      [word_type, meaning] = split[i:i+2]\n",
        "      word_type = map_type(word_type)\n",
        "      if word_type is not None:\n",
        "        meaning = re.sub(\"-\\s+\", \"\", meaning)\n",
        "        response['meaning'].append({\n",
        "            'value': preprocess_word(meaning),\n",
        "            'type': word_type.name,\n",
        "            'index': index\n",
        "        })\n",
        "        index += 1\n",
        "    return response\n",
        "  return None"
      ],
      "metadata": {
        "id": "uEEyf-KLsw_5"
      },
      "execution_count": 31,
      "outputs": []
    },
    {
      "cell_type": "code",
      "source": [
        "def process_text(line: str, dictionary: Dict[str, Any]) -> Dict[str, Dict[str, Any]]:\n",
        "  \"\"\" Reads the raw text and outputs words with or without meanings\n",
        "  \"\"\" \n",
        "  response = process_raw_text(line)\n",
        "  if response is not None and len(response) > 0:\n",
        "    for word in response:\n",
        "      dictionary[word] = None\n",
        "  response = process_words_with_meaning(line)\n",
        "  if response is not None:\n",
        "    dictionary[response['word']] = response\n",
        "  return dictionary"
      ],
      "metadata": {
        "id": "bU2XS2esqeXH"
      },
      "execution_count": 32,
      "outputs": []
    },
    {
      "cell_type": "code",
      "source": [
        "def process_list_of_lines(lines: List[str], dictionary: Dict[str, Dict[str, Any]]) -> Dict[str, Dict[str, Any]]:\n",
        "  \"\"\" Iterates over the list of lines and prepares a dictionary out of those\n",
        "  \"\"\"\n",
        "  if dictionary is None:\n",
        "    dictionary = dict()\n",
        "  if lines is not None and len(lines) > 0:\n",
        "    for each_line in lines:\n",
        "      process_text(each_line, dictionary)\n",
        "  return dictionary"
      ],
      "metadata": {
        "id": "n85gBQI7wICu"
      },
      "execution_count": 33,
      "outputs": []
    },
    {
      "cell_type": "code",
      "source": [
        "res = process_list_of_lines(paragraphs, result)"
      ],
      "metadata": {
        "id": "wWsll4-lw1Kk"
      },
      "execution_count": 34,
      "outputs": []
    },
    {
      "cell_type": "code",
      "source": [
        "len(res)\n",
        "vm = list()\n",
        "wm = list()\n",
        "wom = list()\n",
        "for key, value in res.items():\n",
        "  if value is None:\n",
        "    wom.append(key)\n",
        "  elif ' ' in key:\n",
        "    wm.append(key)\n",
        "  else :\n",
        "    vm.append(key)\n",
        "print('Valid           (%d) : %s' % (len(vm), vm[0:5]))\n",
        "print('With meaning    (%d) : %s' % (len(wm), wm[0:5]))\n",
        "print('Without meaning (%d) : %s' % (len(wom), wom[0:5]))"
      ],
      "metadata": {
        "colab": {
          "base_uri": "https://localhost:8080/"
        },
        "id": "FmpW0oSO7Q4i",
        "outputId": "407892b8-0256-49f3-c044-294ab3d96df8"
      },
      "execution_count": 53,
      "outputs": [
        {
          "output_type": "stream",
          "name": "stdout",
          "text": [
            "Valid           (153) : ['AAA', 'AALS', 'ABA', 'abate', 'abdication']\n",
            "With meaning    (219) : ['the combined value of all bequests and devises, and/or the debts owed by a tes- tator, exceed the assets in the testator’s estate.', 'state court’s decision involving those regulations and proceedings when they involve a substantial or sensitive area of state concern. Burford', 'mined in the state court. Younger', 'e.g., nurse-patient;', 'abuse of discretion']\n",
            "Without meaning (8084) : ['page', 'law', 'dictionary', 'by', 'susan']\n"
          ]
        }
      ]
    },
    {
      "cell_type": "code",
      "source": [
        "for i in sorted(res.keys()):\n",
        "  if ' ' in i:\n",
        "    print(i)"
      ],
      "metadata": {
        "colab": {
          "base_uri": "https://localhost:8080/"
        },
        "id": "WKyjm6dyCP4L",
        "outputId": "6ef619c6-ea96-40f5-8ed5-4eb733612eed"
      },
      "execution_count": 48,
      "outputs": [
        {
          "output_type": "stream",
          "name": "stdout",
          "text": [
            "Age Discrimination in Employment\n",
            "American Bar Foundation\n",
            "Articles of Confederation\n",
            "Association of American Law Schools\n",
            "C & F\n",
            "Consolidated Omnibus Budget Rec- onciliation Act of\n",
            "Corpus Juris Secundum\n",
            "Equal Protection Clause\n",
            "Federal Insurance Contributions Act\n",
            "General Agreement on Tariffs and\n",
            "Good Samaritan law\n",
            "Income Employee\n",
            "Interstate Commerce Commission\n",
            "Labor Management Relations Act\n",
            "Latin. “To come”\n",
            "Megan’s Law\n",
            "Model Rules of Professional Conduct\n",
            "Modified Accelerated Cost Recovery System\n",
            "National Association of Security Dealers Automated Quotation system\n",
            "Occupational Safety and Health Act\n",
            "Occupational Safety and Health Administration\n",
            "Restriction Fragment Length Poly- morphism\n",
            "Roth IRA\n",
            "Securities Act of\n",
            "Securities Exchange Act of\n",
            "Securities and Exchange Commission\n",
            "Treasury Department, United States\n",
            "W-2 form\n",
            "W-4 form\n",
            "abuse of discretion\n",
            "academic freedom\n",
            "accidental death and dismemberment\n",
            "accord and satisfaction\n",
            "ad damnum\n",
            "ad hominem\n",
            "ad litem\n",
            "adequate remedy at law\n",
            "adj. Relating to the gather- forensic ing, preparation, or presentation of evi- dence in court\n",
            "administrative law\n",
            "administrator ad litem\n",
            "adversary system\n",
            "adverse possession\n",
            "affirmative action\n",
            "against her will; unlawful sexual act with an unwilling other, and usually involving threat of violence.\n",
            "against the (manifest) (weight of the\n",
            "age discrimination\n",
            "ance due from the defaulting party.\n",
            "ancillary claim\n",
            "and/or approval by someone in a position of authority; for example,\n",
            "antidumping law\n",
            "antitrust law\n",
            "arm’s length\n",
            "articles of association\n",
            "articles of incorporation\n",
            "as-applied challenge. An argument, claim, or lawsuit that a law or gov- ernment policy, although otherwise constitutional, is unconstitutional when applied to a particular party or situation. Batson challenge. A defendant’s claim that the plaintiff or prosecu- tion excluded potential jurors due to their race, color, ethnic background, or gender by use of peremptory challenges. Named for the United States Supreme Court case of Batson\n",
            "assumption of risk\n",
            "at law\n",
            "attorney’s lien\n",
            "bad faith\n",
            "bait and switch\n",
            "bar examination\n",
            "bench memorandum\n",
            "bill of pains and particulars\n",
            "bill of review\n",
            "blood alcohol concentration (or blood\n",
            "blue sky law\n",
            "bona fide occupational qualification\n",
            "bonus stock\n",
            "borrowed servant doctrine (or bor-\n",
            "building and loan association\n",
            "burden of allegation\n",
            "burden of persuasion\n",
            "case law\n",
            "cause of action\n",
            "cautionary instruction\n",
            "certificate of incorporation\n",
            "charitable contribution\n",
            "charitable organization\n",
            "child labor law\n",
            "choice of law\n",
            "cial decision. For example, in Miranda\n",
            "civil death\n",
            "civil law\n",
            "civil union\n",
            "collective mark\n",
            "color of law\n",
            "commercial law\n",
            "common law\n",
            "concealed carry law\n",
            "concerted action\n",
            "conclusion of law\n",
            "confidential relation\n",
            "conscious parallelism\n",
            "constitutional law\n",
            "constitutional question\n",
            "consumer protection law\n",
            "contemplation of death\n",
            "content-based restriction\n",
            "continuing legal education\n",
            "contributing to the delinquency of a\n",
            "corruption of a minor\n",
            "cost of completion\n",
            "court by or on behalf of one accused of committing a crime, to obtain release from incarceration and to ensure the person’s future appearance in court when required during the criminal pro- ceeding. See also preventive detention and recognizance.\n",
            "criminal conversation\n",
            "criminal law\n",
            "de facto\n",
            "duces tecum\n",
            "e.g., nurse-patient;\n",
            "elder law\n",
            "environmental law\n",
            "equal protection\n",
            "equality before the law\n",
            "ex post facto law\n",
            "expungement of record\n",
            "family law\n",
            "federal law\n",
            "federal question\n",
            "freedom of association\n",
            "freedom of expression\n",
            "generally accepted accounting princi-\n",
            "generally accepted auditing standards\n",
            "generic-drug law\n",
            "guardian ad litem\n",
            "gun-control law\n",
            "have an expectation of privacy, in order to find incriminating evidence. For a search to be legal, there must be probable cause, because the Fourth Amendment to the United States Constitution prohibits unreasonable search and seizure.\n",
            "heat of passion\n",
            "hostile possession\n",
            "hypothetical question\n",
            "in personam\n",
            "in rem\n",
            "intentional infliction of emotional dis-\n",
            "international law\n",
            "judge-made law\n",
            "judicial activism\n",
            "judicial review\n",
            "key-number system\n",
            "long arm\n",
            "majority opinion\n",
            "malum prohibitum\n",
            "martial law\n",
            "mined in the state court. Younger\n",
            "motion for judgment as a matter of law\n",
            "n. 1 In criminal and tort law, assault an act, usually consisting of a threat or attempt to inflict bodily injury upon another person, coupled with the appar- ent present ability to succeed in carry- ing out the threat or the attempt if not prevented, that causes the person to have a reasonable fear or apprehension of immediate harmful or offensive con- tact. No intent to cause battery or the fear or apprehension is required so long as the victim is placed in reasonable apprehension or fear. No actual physical injury is needed to establish an assault, but if there is any physical contact, the act constitutes both an assault and a battery. 2 In criminal law, in some states, the term includes battery and attempted battery. 3 Any attack.\n",
            "n. A brief, usually an Brandeis brief appellate brief, that utilizes economic, sociological, or other scientific and sta- tistical evidence in addition to legal principle when presenting arguments in a case. Named after Louis D. Brandeis, who filed such a brief with the United States Supreme Court in Muller\n",
            "n. A court-mandated pay- palimony ment by one of a former unmarried cou- ple, who cohabited, to the other. The term originated in the reportage of Marvin\n",
            "n. A guilty plea entered as Alford plea part of a plea bargain by a criminal defendant who denies committing the crime or who does not actually admit his guilt. In federal courts, such plea may be accepted as long as there is evidence that the defendant is actually guilty. Named after North Carolina\n",
            "n. A one person (man), one vote 1964 decision in Reynolds\n",
            "n. A request filed by a Anders brief court-appointed attorney to withdraw from the appeal of a criminal case because of his belief that the grounds for the appeal are frivolous. Named after Anders\n",
            "n. An agreement champerty 1 between a litigant and a person who is not a party to the action, including the litigant’s lawyer, for that person to pur- sue or financially support the litigant’s claim in exchange for a portion of any damages awarded. The practice was once prohibited by the common law and it is still forbidden in some states, thereby casting doubt on the legality of lawyers advancing costs for their clients, as in the payment of expert wit- ness fees.\n",
            "n. Evidence or information Brady rule favorable to the defendant in a criminal case that is known by the prosecution. Under the United States Supreme Court case of Brady\n",
            "n. In con- clear and present danger stitutional law, the principle that the government, notwithstanding the First Amendment to the United States Constitution, may restrict, prohibit, or punish speech or the printing and distri- bution of words if it is necessary to pre- vent a clear and present danger of an event that the government has a right to prevent. For example, the government may prohibit a person from falsely cry- ing out “Fire!” in a crowded room in order to prevent panic and injury. This principle was first articulated in the United States Supreme Court case of Schenck\n",
            "n. In criminal law, an Allen charge instruction given by a judge to encour- age a deadlocked jury to make a renewed effort to reach a verdict. Named after Allen\n",
            "n. In criminal silver platter doctrine law, this was a doctrine that a federal court could illegally or improperly state-seized evidence, as long as federal officers had played no role in obtaining it. The doctrine was declared unconstitutional in 1960 (Elkins\n",
            "n. The once- separate but equal argued doctrine that all races are treated fairly when substantially equal facilities are made available to all, even though the races—meaning especially African Americans and Caucasians—are restricted to separate facilities. It was the argument of segregationists during the civil-rights controversy in the 1950s and ‘60s and was ultimately ruled to be in violation of the equal protection clause of the Fourteenth Amendment. The doctrine was established in Plessy\n",
            "natural law\n",
            "negligent infliction of emotional dis-\n",
            "nudum pactum\n",
            "operation of law\n",
            "organic law\n",
            "parallel citation. An additional refer- ence to a court decision that has been published in more than one reporter. For example, the citation for the United States Supreme Court’s famous Miranda case is Miranda\n",
            "parole board\n",
            "peaceable possession\n",
            "penal action\n",
            "penal institution\n",
            "penal law\n",
            "per diem\n",
            "plain view\n",
            "positive law\n",
            "possessory action\n",
            "post-conviction relief proceedings\n",
            "pre-trial detention\n",
            "present sense impression\n",
            "preventive detention\n",
            "price discrimination\n",
            "priest-penitent privilege\n",
            "prosecutorial discretion\n",
            "public domain\n",
            "question of law\n",
            "reductio ad absurdum\n",
            "registered trademark\n",
            "relation back\n",
            "repay the loan or to pay for the goods and services in the future.\n",
            "restraint on alienation\n",
            "retroactive law\n",
            "right of action\n",
            "right of election\n",
            "rule of law\n",
            "running with the land\n",
            "secondary distribution\n",
            "secured transaction\n",
            "self-incrimination, privilege against\n",
            "set aside sufficient funds from the drawer’s or maker’s deposit to guar- antee payment of the check on demand. NSF check\n",
            "sine qua non\n",
            "slip opinion\n",
            "state action\n",
            "state court’s decision involving those regulations and proceedings when they involve a substantial or sensitive area of state concern. Burford\n",
            "status quo\n",
            "stop and frisk\n",
            "straight-line method\n",
            "sua sponte\n",
            "sua sponte Latin. “Of itself.” regard- ing a judge or court, to raise an issue or take an action independently of any request or suggestion made by the par- ties or lawyers;\n",
            "subject to open\n",
            "substantial performance (compliance\n",
            "substantive law\n",
            "sum certain\n",
            "suspect classification\n",
            "taking the Fifth\n",
            "tax deduction\n",
            "tax evasion\n",
            "tax lien\n",
            "tax return\n",
            "territorial jurisdiction\n",
            "the combined value of all bequests and devises, and/or the debts owed by a tes- tator, exceed the assets in the testator’s estate.\n",
            "three-strikes law\n",
            "thrift institution\n",
            "title search\n",
            "traveler’s check\n",
            "treasury stock\n",
            "work release program\n"
          ]
        }
      ]
    },
    {
      "cell_type": "code",
      "source": [
        "paragraphs[999:1100]"
      ],
      "metadata": {
        "colab": {
          "base_uri": "https://localhost:8080/"
        },
        "id": "M_QUKnn2C3zt",
        "outputId": "83a15b84-a920-4359-fb33-6126108633ea"
      },
      "execution_count": 37,
      "outputs": [
        {
          "output_type": "execute_result",
          "data": {
            "text/plain": [
              "['n. The criminal act or practice bribery of voluntarily giving, offering, receiving, or soliciting a bribe to influence the offi- cial conduct of a person in a position or office of public trust. See also kickback. commercial bribery. The voluntary giving, offering, receiving, or solicit- ing of a bribe to influence the dis- cretionary conduct or decision of an agent, officer, or employee of a business.',\n",
              " '05_542109 ch02.qxp 3/28/06 12:16 PM Page 57',\n",
              " '57',\n",
              " 'burden of allegation',\n",
              " 'n. Short-term loan to bridge loan cover excessive or concurrent obliga- tions, as in the case of a loan to cover two separate mortgages until borrower is able to sell one home. ',\n",
              " 'brief 1 n. A written statement pre- pared by a lawyer and submitted to the court that outlines the pertinent facts of the case, the questions of law to be decided, the position of the lawyer’s client as to those questions, and the legal arguments and authorities (for example, statutes and appellate court decisions) that support that position. See also memorandum. ',\n",
              " 'amicus brief. The brief submitted by an amicus curiae. Also called brief amicus curiae. appellate brief. A brief submitted when the case is on appeal. reply brief. A brief that responds to the arguments previously raised in an opponent’s brief. ',\n",
              " 'trial brief. A brief usually submitted just before a trial.',\n",
              " '2 v. to counsel in an advisory capacity, as in “to brief” one’s senior partner on the status of the case before going to court.',\n",
              " 'n. A person or entity who, for a broker commission or a fee, brings together buyers and sellers of property or serv- ices and, while acting as the agent of one or both of the parties, helps them negotiate contracts. ',\n",
              " 'n. 1 The business or office brokerage of a broker. 2 A broker’s commission or fee.',\n",
              " 'n. A traditional term of colle- brother giality (for example, “I respectfully dis- agree with my brother Smith on the issue of . . . .”), by which lawyers or judges refer to one another. When refer- ring to more than one, the plural, brethren, is used. However, as more',\n",
              " 'women enter the legal profession, more gender-neutral phrases, such as “my col- league,” are being used.',\n",
              " 'n. Anal sex with another per- buggery son or with an animal. See also bestial- ity and sodomy.',\n",
              " 'v. Intercepting, listening to, bugging or recording a conversation, usually done covertly, by the use of an electronic device. See also pen register and wire- tap.',\n",
              " 'building and loan association n. A quasi-public corporation to which its members contribute money that is loaned back to the members so they can buy or build homes. See also bank.',\n",
              " 'n. Any sale of a large quan- bulk sale tity of materials, merchandise, supplies, or other inventory that is not in the seller’s ordinary course of business. Also called bulk transfer. Regulated by the Uniform Commercial Code that is designed to prevent a seller from mak- ing such a sale, and then spending or disappearing with the proceeds without first paying his creditors.',\n",
              " 'bulk transfer See bulk sale.',\n",
              " 'Something ',\n",
              " 'burden n. 1 A duty, obligation, or responsibility. 2 that causes anxiety or is grievous or oppres- sive. 3 In property law, anything that encumbers or restrict the use or value of land, such as an easement, restrictive covenant, or zoning ordinance. The bur- den indefinitely binds the current and all future owners until it is extinguished, so it is the land, and the landowner, that is burdened by the encumbrance or restric- tion. See estate.',\n",
              " 'burden of allegation n. The burden on a party seeking to raise an issue at trial to make allegations about it in a plead- ing. Also called burden of pleading or pleading burden.',\n",
              " '05_542109 ch02.qxp 3/28/06 12:16 PM Page 58',\n",
              " 'burden of evidence',\n",
              " '58',\n",
              " 'n. The burden on burden of evidence a party seeking to support a claim or defense at trial to produce sufficient evi- dence at trial to have the issue merit consideration by the fact-finder. Also called burden of going forward (with evidence), burden of introducing evi- dence, burden of proceeding, burden of producing evidence, burden of pro- duction, duty of producing evidence, and production burden. See also proof (burden of proof), verdict, dismissal, nonsuit, and prima facie case.',\n",
              " 'burden of going forward (with evi- dence) See burden of evidence.',\n",
              " 'burden of introducing evidence See burden of evidence.',\n",
              " 'burden of persuasion n. The burden on a party at trial to present sufficient evidence to persuade the fact-finder, by the applicable standard of proof, of the truth of a fact or assertion and to con- vince the fact-finder to interpret the facts in a way that favors the party. Also called persuasion burden or risk of non- persuasion. See also proof (burden of proof).',\n",
              " 'burden of pleading See burden of allegation.',\n",
              " 'burden of proceeding See burden of evidence.',\n",
              " 'burden of producing evidence See burden of evidence.',\n",
              " 'burden of production See burden of evidence.',\n",
              " 'burden of proof See proof.',\n",
              " 'v. The shifting of the burden shifting burden of proof from one party to another at trial, after each party pres- ents sufficient evidence to initially per- suade the fact-finder of the truth or falsehood of a disputed fact or assertion,',\n",
              " 'the burden shifts to the other party to disprove such fact or assertion. ',\n",
              " 'Burford abstention See abstention.',\n",
              " 'burglar burglary.',\n",
              " 'n. An individual who commits',\n",
              " 'burglary 1 n. The common-law offense of forcibly entering a dwelling at night to commit a felony therein. 2 v. Under many modern statutes, the act of breaking and entering into any building at any time with the intent to commit a felony (or, in some states, a felony or petit larceny and, in other states, any crime) therein. See also larceny and robbery.',\n",
              " 'business, course of See ordinary (ordinary course of business). ',\n",
              " 'business invitee See invitee.',\n",
              " 'n. The legal business judgment rule doctrine that a corporation’s officers and directors cannot be liable for damages to stockholders for a business decision that proves unprofitable or harmful to the corporation so long as the decision was within the officers’ or directors’ dis- cretionary power and was made on an informed basis, in good faith without any direct conflict of interest, and in the honest and reasonable belief that it was in the corporation’s best interest. ',\n",
              " 'but-for cause See cause.',\n",
              " 'n. In criminal and tort but-for test law, the principle that causation exists only if the harm suffered by a party would not have happened in the absence of (“but for”) the defendant’s conduct. ',\n",
              " 'n. One who buys or agrees to buyer make a purchase. See also purchaser. buyer in the ordinary course of busi- ness. A person who buys goods in the usual manner from a person in the business of selling such goods',\n",
              " '05_542109 ch02.qxp 3/28/06 12:16 PM Page 59',\n",
              " '59',\n",
              " 'by-law',\n",
              " 'and who does so in good faith and without knowledge that the sale violates another person’s ownership rights or security interest in the goods. Such a buyer will have good title to the item purchased. See also holder in due course. ready, willing, and able buyer. A per- son who is legally and financially able and has the disposition to make a particular purchase. straw buyer. See straw person (or man).',\n",
              " 'n. An agreement buy-sell agreement among the owners of a business or the stockholders of a closed corporation to purchase, or to have the business or cor-',\n",
              " 'poration purchase, the interest or shares of any withdrawing or deceased owner or stockholder. See also continu- ation agreement.',\n",
              " 'n. A rule or by-law (also bylaw) administrative provision adopted by an association, corporation, or other body, subordinate to the body’s articles of incorporation, charter, or constitution, that regulates the body’s self-govern- ment and the rights and duties of its offi- cers and members. See also ordinance.',\n",
              " '06_542109 ch03.qxp 3/28/06 12:16 PM Page 60',\n",
              " 'C',\n",
              " 'C & F n. abbr. Cost and freight. Both the initials and phrase are used in offers and contracts for the sale of goods to indicate that the quoted price includes the cost of the freight to a named desti- nation as well as the cost of the goods. See also C.I.F.',\n",
              " 'n. A list of the civil and crim- calendar inal cases scheduled on a particular day, week, or other time period for trial or some other hearing (such as an arraign- ment, sentencing, or the hearing of arguments concerning pretrial motions) to be conducted before a judge.',\n",
              " 'n. A courtroom proce- calendar call dure in which the judge or a court offi- cer calls out the names of the cases on the calendar, is advised by the parties or their lawyers whether they are ready to proceed, and, if they are, sets a date for trial. In doing so, the judge or court offi- cer is said to “call the calendar.”',\n",
              " 'n. 1 In property law, an identifi- call able natural landmark that serves to delineate the boundary of land. See also metes and bounds. 2 A demand for the payment of money or the delivery of a security, such as a bond, by someone entitled to make such a demand. See also puts and calls.',\n",
              " 'n. A false and malicious calumny statement about someone that is intended to injure his or her reputation. See also obloquy, defamation, and slander.',\n",
              " 'v. 1 To blot out, deface, mark cancel off, perforate, destroy, or otherwise physically alter a writing to render it void. 2 To annul, terminate, or revoke a promise or obligation. ',\n",
              " 'n. 1 The act, or the cancellation marks or perforations made in the act, of canceling something. 2 A remedy by which a court calls in, annuls, and retains possession of a void or rescinded written legal document because it may cause unnecessary litigation or make a person’s title to property unclear. For example, a court may call in, annul, and retain possession of a void deed to real estate that a party used to falsely claim title to someone else’s real property, in order to prevent any such claims in the future.',\n",
              " 'canon n. 1 A rule or principle, espe- cially one that is fundamental. 2 A rule or standard of conduct, in the form of a general maxim, adopted by a pro- fessional organization to guide the con- duct of its members. See also Model Rules of Professional Conduct. ',\n",
              " 'n. 1 The function, office, capacity position, or role in which one acts. 2 A legal qualification, such as age, that determines one’s ability to do something that has legal consequences (such as making a contract or getting married). Also called legal capacity. 3 The men- tal ability to perceive, understand, and appreciate all relevant facts, to make a rational decision based thereon, and to understand the nature and effect of one’s actions. See also sane.',\n",
              " 'criminal capacity. The mental ability required to sufficiently distinguish right from wrong to hold a person liable for his criminal acts. See also insanity and infancy. diminished capacity. Reduced mental ability caused by such factors as alcohol or drug use, disease, mental retardation, or injury, that prevents a person from sufficiently distin- guishing right from wrong to hold',\n",
              " '06_542109 ch03.qxp 3/28/06 12:16 PM Page 61',\n",
              " '61',\n",
              " 'care',\n",
              " 'them liable for his criminal acts. See also insanity. testamentary capacity. The mental ability a person must have at the time he signs a testamentary docu- ment, such as a will, for the instru- ment to be valid. Although it varies from state to state, it usually requires the person to understand who are the natural objects of his bounty, the nature and extent of his property, and the consequences of executing the document. See also mind.',\n",
              " 'capital 1 n. Money or other assets used or available for the production of wealth. 2 adj. A crime punishable by or involving the death penalty.',\n",
              " 'capital crime. Same as capital offense. See offense. capital offense. See offense. capital punishment. See punish- ment. capital asset. See asset. capital expenditure. The expenditure of money to purchase, improve, or repair property that has, or whose improvement has, a useful life that is substantially longer than the length of the taxable year in which the purchase, improvement, or repair is made. Not deductible for income tax purposes, but may be subject to depletion or depreciation. Also called capital expense. capital expense. See capital expendi- ture. capital gain. See gain. capital gains tax. See tax. capital loss. See loss.',\n",
              " 'capital stock. See stock.',\n",
              " 'capitalism n. An economic system in which the means of production and distri-',\n",
              " 'bution are owned and controlled mostly by private individuals and businesses for profit, thus what is produced and the quantities thereof are determined by con- sumer demand and competition. ',\n",
              " 'adj. 1 Characterized by or capricious resulting from caprice, inconsistency in feeling or purpose, a whim, or an unpre- dictable or impulsive behavior. See also arbitrary. 2 Contrary to the evidence or law.',\n",
              " 'caption n. 1 The heading of a pleading that contains the names of the parties and court, the case index or docket num- ber, and the type of pleading the docu- ment is. 2 The taking or carrying away of an object. See also larceny, rob- bery, and trespass. 3 The arrest or seizure of a person pursuant to legal process.',\n",
              " 'n. 1 Serious attention, concern, care interest, or regard. 2 In negligence law, the level of caution and prudence demanded in the conduct of a person in a given situation. The appropriate level is determined by measuring the poten- tial dangers in the particular situation, the risk that the person’s actions might bring the risk to fruition, and the possi- ble ways of minimizing or eliminating the risk. In some situations, the level of care owed is determined by statute. See also reasonable man, malpractice, and negligence.',\n",
              " 'degree of care. The level of care to be exercised in a particular situation. due care. 1 A phrase used to describe the level of care that an ordinarily reasonable, intelligent, and prudent person would use under the same or similar circum- stances. For example, “Smith’s fail- ure to exercise due care before the accident constitutes negligence.” Depending upon the seriousness of the particular situation and the',\n",
              " '06_542109 ch03.qxp 3/28/06 12:16 PM Page 62',\n",
              " 'carjacking',\n",
              " '62',\n",
              " 'known risks, due care may be rea- sonable care or a higher or lower degree of care. 2 See reasonable care. highest degree of care. The highest degree of care that a very attentive, watchful, and cautious individual would exercise when dealing with a particular situation. Among other things, this is the degree of care that trustees and other fiduciaries are required to exercise when carry- ing out their fiduciary duties. Also called extraordinary care and high- est degree of care. See also breach. ordinary care. See reasonable care.',\n",
              " 'reasonable care. The degree of care that an ordinarily reasonable, intel- ligent, and prudent person utilizing diligence and good judgment would exercise or reasonably be expected to utilize under similar circum- stances. Also called due care and ordinary care.',\n",
              " 'carjacking See hijack.',\n",
              " 'n. A person or commercial carrier enterprise (such as an airline) in the business of transporting people or goods.',\n",
              " 'common carrier. A carrier who is legally required to accept all busi- ness from the public, so long as the approved fee for the transport of passengers or freight is paid.',\n",
              " 'private carrier. A carrier who is not legally required to accept business from the public, but who is hired in particular cases to deliver passen- gers or goods.',\n",
              " 'carryback n. The part of an income tax credit or deduction, such as a net operating loss, that cannot be entirely claimed in a given tax year, but that a person may apply against (and thereby reduce) his tax liability for a previous year. See also carryover.',\n",
              " 'carryforward See carryover.',\n",
              " 'n. The part of an income tax carryover credit or deduction that cannot be entirely claimed in a given tax year, but that a person may apply against (and thereby reduce) their tax liability for a subsequent year. See also carryback.',\n",
              " 'n. A group of independent pro- cartel ducers or sellers in a particular industry, or a group of businesses with a common interest, who have joined together to reduce competition between themselves by allocating markets, sharing knowl- edge, or controlling the price and pro- duction of a product or service. See also monopoly and oligopoly.',\n",
              " 'n. 1 An action, cause of action, case controversy, proceeding, or suit at law or in equity filed with a court. 2 Same as trespass on the case. See trespass. 3 The aggregate of the evidence pre- sented at trial by a party in support of their argument or position.',\n",
              " 'agreed case. See case stated. case at bar. A case that is proceeding towards resolution or trial or is under the particular or immediate attention of the court. Also called instant case and present case. See also bar and sub judice. case in chief. 1 The primary case presented by a party that satisfies that party’s initial burden of proof, as distinguished from the “rebuttal case”. case on point. A previously decided case with facts or legal issues that were similar or comparable to those in a case at bar. See also precedent. case of first impression. A case that presents a legal issue that has never been considered or decided by any court in that jurisdiction. See also stare decisis.',\n",
              " '06_542109 ch03.qxp 3/28/06 12:16 PM Page 63',\n",
              " '63',\n",
              " 'causation',\n",
              " 'test case. A case initiated or selected from a group of cases that involve the same or substantially similar facts and questions of law for the purpose of testing the constitution- ality of a law or establishing an important legal principle. prima facie case. The evidence pre- sented at trial by a party that is suf- ficient to satisfy the party’s burden of proof and to allow the fact-finder to decide the case in that party’s favor. See also verdict, dismissal, and nonsuit. rebuttal case. The evidence pre- sented at trial by the plaintiff or prosecution to contradict the evi- dence presented during the defen- dant’s case in chief.',\n",
              " 'surrebuttal case. The evidence pre- sented at trial by the defendant to contradict the evidence presented in the plaintiff’s or prosecution’s rebuttal case. ',\n",
              " 'case law n. 1 The law based on judi- cial opinions, including decisions that interpret statutes, rather than law based on statutes and other sources. See also administrative law, casus omissus, and common law. 2 The collection of reported judicial decisions within a par- ticular jurisdiction dealing with a spe- cific topic. Also called decisional law.',\n",
              " 'issue or ',\n",
              " 'cash-basis method See also cash method.',\n",
              " 'that records ']"
            ]
          },
          "metadata": {},
          "execution_count": 37
        }
      ]
    },
    {
      "cell_type": "code",
      "source": [],
      "metadata": {
        "id": "Ud3KjyHCFZta"
      },
      "execution_count": 37,
      "outputs": []
    },
    {
      "cell_type": "markdown",
      "source": [
        "# Save result as a Json"
      ],
      "metadata": {
        "id": "3NQ99jOmOUzW"
      }
    },
    {
      "cell_type": "code",
      "source": [
        "import json\n",
        "\n",
        "# Serializing json\n",
        "json_object = json.dumps(res, indent=4)\n",
        " \n",
        "# Writing to sample.json\n",
        "with open(\"output/dictionary.json\", \"w\") as outfile:\n",
        "    outfile.write(json_object)"
      ],
      "metadata": {
        "id": "Y0eWF2AUOXgM"
      },
      "execution_count": 55,
      "outputs": []
    }
  ]
}